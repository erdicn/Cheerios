{
 "cells": [
  {
   "cell_type": "code",
   "execution_count": 9,
   "metadata": {},
   "outputs": [
    {
     "name": "stdout",
     "output_type": "stream",
     "text": [
      "c + (-1.0*c*tan(y) + 0.166666666666667*sin(y)**3 + 0.333333333333333*sin(y))*tan(x) + 0.166666666666667*cos(y)**3 - 0.5*cos(y) - tan(x) - tan(y)\n",
      "c + val*(-1.0*c*tan(y) + 0.166666666666667*sin(y)**3 + 0.333333333333333*sin(y)) - val + 0.166666666666667*cos(y)**3 - 0.5*cos(y) - tan(y)\n"
     ]
    }
   ],
   "source": [
    "from sympy import *\n",
    "x, y, c, val = symbols('x y c val')\n",
    "# phi_c = x \n",
    "# theta = y\n",
    "init_printing(use_unicode=True)\n",
    "equation = c - 0.5*cos(y)+ (1/6)*cos(y)**3 + (-c*tan(y)+ 0.5*sin(y)-(1/6)*cos(y)**2 * sin(y))*tan(x) - tan(x) - tan(y)\n",
    "print(\n",
    "    simplify(\n",
    "        equation\n",
    "    )\n",
    ")\n",
    "equation2 = c + (-1.0*c*tan(y) + (1/6)*sin(y)**3 + (1/3)*sin(y))*val + (1/6)*cos(y)**3 - 0.5*cos(y) - val - tan(y)\n",
    "print(simplify(equation2))"
   ]
  },
  {
   "cell_type": "code",
   "execution_count": 8,
   "metadata": {},
   "outputs": [
    {
     "name": "stdout",
     "output_type": "stream",
     "text": [
      "[]\n"
     ]
    }
   ],
   "source": [
    "from sympy.solvers import solve\n",
    "only_equation = c - 0.5*cos(y)+ (1/6)*cos(y)**3 + (-c*tan(y)+ 0.5*sin(y)-(1/6)*cos(y)**2 * sin(y))*val - val - tan(y)\n",
    "print(solve(only_equation, y))\n"
   ]
  }
 ],
 "metadata": {
  "kernelspec": {
   "display_name": "Python 3",
   "language": "python",
   "name": "python3"
  },
  "language_info": {
   "codemirror_mode": {
    "name": "ipython",
    "version": 3
   },
   "file_extension": ".py",
   "mimetype": "text/x-python",
   "name": "python",
   "nbconvert_exporter": "python",
   "pygments_lexer": "ipython3",
   "version": "3.10.6"
  },
  "orig_nbformat": 4,
  "vscode": {
   "interpreter": {
    "hash": "916dbcbb3f70747c44a77c7bcd40155683ae19c65e1c03b4aa3499c5328201f1"
   }
  }
 },
 "nbformat": 4,
 "nbformat_minor": 2
}
